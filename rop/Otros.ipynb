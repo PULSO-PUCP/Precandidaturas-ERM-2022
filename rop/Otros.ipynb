{
 "cells": [
  {
   "cell_type": "code",
   "execution_count": 1,
   "metadata": {},
   "outputs": [
    {
     "ename": "NameError",
     "evalue": "name 'webdriver' is not defined",
     "output_type": "error",
     "traceback": [
      "\u001b[1;31m---------------------------------------------------------------------------\u001b[0m",
      "\u001b[1;31mNameError\u001b[0m                                 Traceback (most recent call last)",
      "\u001b[1;32m<ipython-input-1-ffa218d5650b>\u001b[0m in \u001b[0;36m<module>\u001b[1;34m\u001b[0m\n\u001b[0;32m      1\u001b[0m \u001b[1;31m# Case 2 - ChromeDriverManager\u001b[0m\u001b[1;33m\u001b[0m\u001b[1;33m\u001b[0m\u001b[1;33m\u001b[0m\u001b[0m\n\u001b[1;32m----> 2\u001b[1;33m \u001b[0mdriver\u001b[0m \u001b[1;33m=\u001b[0m \u001b[0mwebdriver\u001b[0m\u001b[1;33m.\u001b[0m\u001b[0mChrome\u001b[0m\u001b[1;33m(\u001b[0m \u001b[0mChromeDriverManager\u001b[0m\u001b[1;33m(\u001b[0m\u001b[1;33m)\u001b[0m\u001b[1;33m.\u001b[0m\u001b[0minstall\u001b[0m\u001b[1;33m(\u001b[0m\u001b[1;33m)\u001b[0m \u001b[1;33m)\u001b[0m\u001b[1;33m\u001b[0m\u001b[1;33m\u001b[0m\u001b[0m\n\u001b[0m\u001b[0;32m      3\u001b[0m \u001b[0mdriver\u001b[0m\u001b[1;33m.\u001b[0m\u001b[0mmaximize_window\u001b[0m\u001b[1;33m(\u001b[0m\u001b[1;33m)\u001b[0m\u001b[1;33m\u001b[0m\u001b[1;33m\u001b[0m\u001b[0m\n\u001b[0;32m      4\u001b[0m \u001b[1;33m\u001b[0m\u001b[0m\n\u001b[0;32m      5\u001b[0m \u001b[0murl\u001b[0m \u001b[1;33m=\u001b[0m \u001b[1;34m'https://aplicaciones007.jne.gob.pe/srop_publico/Consulta/OrganizacionPolitica'\u001b[0m\u001b[1;33m\u001b[0m\u001b[1;33m\u001b[0m\u001b[0m\n",
      "\u001b[1;31mNameError\u001b[0m: name 'webdriver' is not defined"
     ]
    }
   ],
   "source": [
    "# Case 2 - ChromeDriverManager\n",
    "driver = webdriver.Chrome( ChromeDriverManager().install() )\n",
    "driver.maximize_window()\n",
    "\n",
    "url = 'https://aplicaciones007.jne.gob.pe/srop_publico/Consulta/OrganizacionPolitica'\n",
    "driver.get( url )"
   ]
  },
  {
   "cell_type": "code",
   "execution_count": null,
   "metadata": {},
   "outputs": [],
   "source": [
    "scope_options = driver.find_element_by_xpath('/html/body/div[1]/div[2]/div[1]/div/div[1]/select')"
   ]
  },
  {
   "cell_type": "code",
   "execution_count": null,
   "metadata": {},
   "outputs": [],
   "source": [
    "#scope_options.find_elements_by_tag_name(\"option\")[0].text\n",
    "#scope_options.find_elements_by_tag_name(\"option\")[1].text\n",
    "#scope_options.find_elements_by_tag_name(\"option\")[2].text\n",
    "#scope_options.find_elements_by_tag_name(\"option\")[3].text\n",
    "#scope_options.find_elements_by_tag_name(\"option\")[4].text"
   ]
  },
  {
   "cell_type": "code",
   "execution_count": null,
   "metadata": {},
   "outputs": [],
   "source": [
    "scope = driver.find_element_by_xpath( \"/html/body/div[1]/div[2]/div[1]/div/div[1]/select\" )\n",
    "scope.find_elements_by_tag_name(\"option\")"
   ]
  },
  {
   "cell_type": "code",
   "execution_count": null,
   "metadata": {},
   "outputs": [],
   "source": [
    "scope_options= [ x for x in scope.find_elements_by_tag_name(\"option\")]"
   ]
  },
  {
   "cell_type": "code",
   "execution_count": null,
   "metadata": {},
   "outputs": [],
   "source": [
    "dict_scope_options = { i.text : i for i in scope_options }\n",
    "dict_scope_options.keys()"
   ]
  },
  {
   "cell_type": "code",
   "execution_count": null,
   "metadata": {},
   "outputs": [],
   "source": [
    "inscripcion_0 = driver.find_element_by_xpath(\"/html/body/div[1]/div[2]/div[1]/div/div[2]/select\")\n",
    "\n",
    "inscripcion = Select(inscripcion_0)"
   ]
  },
  {
   "cell_type": "code",
   "execution_count": null,
   "metadata": {},
   "outputs": [],
   "source": [
    "num_estado_options = len(.options)"
   ]
  },
  {
   "cell_type": "code",
   "execution_count": null,
   "metadata": {},
   "outputs": [],
   "source": [
    "for estado_idx in range( num_estado_options ):\n",
    "    \n",
    "    # Get again all departments since HTML is refreshing\n",
    "    # all elements\n",
    "    # Click on one specific department\n",
    "    estado = Select( driver.find_element_by_xpath( \"/html/body/div[1]/div[2]/div[1]/div/div[2]/select\" ) )\n",
    "    estadoins = estado.options[ estado_idx ]\n",
    "    \n",
    "    # Get departmant name\n",
    "    estado_name = estadoins.text\n",
    "    print(estado_name)"
   ]
  },
  {
   "cell_type": "code",
   "execution_count": null,
   "metadata": {},
   "outputs": [],
   "source": []
  }
 ],
 "metadata": {
  "kernelspec": {
   "display_name": "Python 3",
   "language": "python",
   "name": "python3"
  },
  "language_info": {
   "codemirror_mode": {
    "name": "ipython",
    "version": 3
   },
   "file_extension": ".py",
   "mimetype": "text/x-python",
   "name": "python",
   "nbconvert_exporter": "python",
   "pygments_lexer": "ipython3",
   "version": "3.8.5"
  }
 },
 "nbformat": 4,
 "nbformat_minor": 4
}
